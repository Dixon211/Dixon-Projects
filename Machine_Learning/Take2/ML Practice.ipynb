{
 "cells": [
  {
   "cell_type": "markdown",
   "id": "a9126452-f8d9-4fa0-8af2-b90d7bff8811",
   "metadata": {},
   "source": [
    "Trying out ML"
   ]
  },
  {
   "cell_type": "code",
   "execution_count": null,
   "id": "2592b43b-1b4d-4356-af9f-f2fe9979e734",
   "metadata": {},
   "outputs": [],
   "source": [
    "import tensorflow as tf\n"
   ]
  },
  {
   "cell_type": "code",
   "execution_count": null,
   "id": "d041d9e4-1277-42e8-91c3-c7a98af8b7dd",
   "metadata": {},
   "outputs": [],
   "source": []
  }
 ],
 "metadata": {
  "kernelspec": {
   "display_name": "Python 3 (ipykernel)",
   "language": "python",
   "name": "python3"
  },
  "language_info": {
   "codemirror_mode": {
    "name": "ipython",
    "version": 3
   },
   "file_extension": ".py",
   "mimetype": "text/x-python",
   "name": "python",
   "nbconvert_exporter": "python",
   "pygments_lexer": "ipython3",
   "version": "3.10.11"
  }
 },
 "nbformat": 4,
 "nbformat_minor": 5
}
